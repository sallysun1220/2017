{
 "cells": [
  {
   "cell_type": "markdown",
   "metadata": {},
   "source": [
    "# The EM algorithm\n",
    "\n",
    "##### Keywords: maximum likelihood, mixture model, ELBO, full-data likelihood, x-likelihood, latent variables, log-likelihood, training set, normal distribution, z-posterior"
   ]
  },
  {
   "cell_type": "code",
   "execution_count": 2,
   "metadata": {
    "collapsed": false
   },
   "outputs": [],
   "source": [
    "%matplotlib inline\n",
    "import numpy as np\n",
    "import scipy as sp\n",
    "import matplotlib as mpl\n",
    "import matplotlib.cm as cm\n",
    "import matplotlib.pyplot as plt\n",
    "import pandas as pd\n",
    "pd.set_option('display.width', 500)\n",
    "pd.set_option('display.max_columns', 100)\n",
    "pd.set_option('display.notebook_repr_html', True)\n",
    "import seaborn as sns\n",
    "sns.set_style(\"whitegrid\")\n",
    "sns.set_context(\"poster\")\n",
    "import pymc3 as pm"
   ]
  },
  {
   "cell_type": "markdown",
   "metadata": {},
   "source": [
    "$$\\newcommand{\\isum}{\\sum_{i}}$$\n",
    "$$\\newcommand{\\zsum}{\\sum_{k=1}^{K}}$$\n",
    "$$\\newcommand{\\zsumi}{\\sum_{\\{z_i\\}}}$$"
   ]
  },
  {
   "cell_type": "markdown",
   "metadata": {},
   "source": [
    "## A toy problem\n",
    "\n",
    "This example is taken from Efron and Hastie, Computer Age Statistical Inference.\n",
    "\n",
    "Assume we have data drawn from a bi-variate Normal\n",
    "\n",
    "![](images/gform1.png)\n"
   ]
  },
  {
   "cell_type": "code",
   "execution_count": 3,
   "metadata": {
    "collapsed": false
   },
   "outputs": [
    {
     "data": {
      "text/plain": [
       "(array([ 1.85,  1.  ]), array([[ 1.    ,  0.615 ],\n",
       "        [ 0.615 ,  0.5625]]))"
      ]
     },
     "execution_count": 3,
     "metadata": {},
     "output_type": "execute_result"
    }
   ],
   "source": [
    "sig1=1\n",
    "sig2=0.75\n",
    "mu1=1.85\n",
    "mu2=1\n",
    "rho=0.82\n",
    "means=np.array([mu1, mu2])\n",
    "cov = np.array([\n",
    "    [sig1**2, sig1*sig2*rho],\n",
    "    [sig2*sig1*rho, sig2**2]\n",
    "])\n",
    "means, cov"
   ]
  },
  {
   "cell_type": "markdown",
   "metadata": {},
   "source": [
    "We plot the samples below as blue circles. Now say we lose the y-values of the last-20 pieces of data. We are left with a missing data or hidden data or latent-variables problem. We plot both datasets below, with the y-values of the lost points set to 0"
   ]
  },
  {
   "cell_type": "code",
   "execution_count": 12,
   "metadata": {
    "collapsed": true
   },
   "outputs": [],
   "source": [
    "samples=np.random.multivariate_normal(means, cov, size=40)"
   ]
  },
  {
   "cell_type": "code",
   "execution_count": 20,
   "metadata": {
    "collapsed": false
   },
   "outputs": [
    {
     "data": {
      "text/plain": [
       "[<matplotlib.lines.Line2D at 0x11d2dd160>]"
      ]
     },
     "execution_count": 20,
     "metadata": {},
     "output_type": "execute_result"
    },
    {
     "data": {
      "image/png": "[encoded data removed]",
      "text/plain": [
       "<matplotlib.figure.Figure at 0x11d2dd0b8>"
      ]
     },
     "metadata": {},
     "output_type": "display_data"
    }
   ],
   "source": [
    "samples_censored=np.copy(samples)\n",
    "samples_censored[20:,1]=0\n",
    "plt.plot(samples[:,0], samples[:,1], 'o', alpha=0.8)\n",
    "plt.plot(samples_censored[:,0], samples_censored[:,1], 's', alpha=0.3)"
   ]
  },
  {
   "cell_type": "markdown",
   "metadata": {},
   "source": [
    "\n",
    "We would use MLE if we had all the data. \n",
    "\n",
    "![](images/gform2.png)"
   ]
  },
  {
   "cell_type": "code",
   "execution_count": 21,
   "metadata": {
    "collapsed": true
   },
   "outputs": [],
   "source": [
    "mu1 = lambda s: np.mean(s[:,0])\n",
    "mu2 = lambda s: np.mean(s[:,1])\n",
    "s1 = lambda s: np.std(s[:,0])\n",
    "s2 = lambda s: np.std(s[:,1])\n",
    "rho = lambda s: np.mean((s[:,0] - mu1(s))*(s[:,1] - mu2(s)))/(s1(s)*s2(s))"
   ]
  },
  {
   "cell_type": "markdown",
   "metadata": {},
   "source": [
    "But we dont. So we shall follow an iterative process to find them."
   ]
  },
  {
   "cell_type": "code",
   "execution_count": 22,
   "metadata": {
    "collapsed": true
   },
   "outputs": [],
   "source": [
    "mu1s=[]\n",
    "mu2s=[]\n",
    "s1s=[]\n",
    "s2s=[]\n",
    "rhos=[]"
   ]
  },
  {
   "cell_type": "markdown",
   "metadata": {},
   "source": [
    "Bur remember our data are missing in the y-direction. Assume 0 and go. Since we are using the MLE of the **full-data** likelihood, with this assumption we can use the MLE formulae. This is called M-step or maximization step since we used the MLE formulae."
   ]
  },
  {
   "cell_type": "code",
   "execution_count": 23,
   "metadata": {
    "collapsed": false
   },
   "outputs": [
    {
     "data": {
      "text/plain": [
       "([1.9668830398589239],\n",
       " [0.66289991075215471],\n",
       " [1.1857313763007093],\n",
       " [0.8892473769459357],\n",
       " [0.52261293647460894])"
      ]
     },
     "execution_count": 23,
     "metadata": {},
     "output_type": "execute_result"
    }
   ],
   "source": [
    "mu1s.append(mu1(samples_censored))\n",
    "mu2s.append(mu2(samples_censored))\n",
    "s1s.append(s1(samples_censored))\n",
    "s2s.append(s2(samples_censored))\n",
    "rhos.append(rho(samples_censored))\n",
    "mu1s,mu2s,s1s,s2s,rhos"
   ]
  },
  {
   "cell_type": "markdown",
   "metadata": {},
   "source": [
    "Now having new estimates of our parameters due to our (fake) y-data, lets go in the other direction. Using these parameters let us calculate new y-values.\n",
    "\n",
    "One way we might do this is to replace the old-missing-y values with the means of these fixing the parameters of the multi-variate normal and the non-missing data. In other words:\n",
    "\n",
    "$$E_{p(z \\vert \\theta, x)}[z]$$\n",
    "\n",
    "where we have used the notation $z$ to refer to the missing values.\n",
    "\n",
    "This **posterior** distribution (in the sense of bayes theorem, not bayesian analysis) for the multi-variate gaussian is a gaussian..see [wikipedia](https://en.wikipedia.org/wiki/Multivariate_normal_distribution#Conditional_distributions) for the formulae\n",
    "\n",
    "$$\\bar{y}(t+1) - \\hat{\\mu_2}(t) = \\hat{\\rho}(t)\\frac{\\hat{\\sigma_2}(t)}{\\hat{\\sigma_1}(t)} \\left( \\bar{x} - \\hat{\\mu_1}(t) \\right)$$"
   ]
  },
  {
   "cell_type": "code",
   "execution_count": 24,
   "metadata": {
    "collapsed": true
   },
   "outputs": [],
   "source": [
    "def ynew(x, mu1, mu2, s1, s2, rho):\n",
    "    return mu2 + rho*(s2/s1)*(x - mu1)\n",
    "    "
   ]
  },
  {
   "cell_type": "code",
   "execution_count": 25,
   "metadata": {
    "collapsed": false
   },
   "outputs": [
    {
     "data": {
      "text/plain": [
       "array([ 0.14702183,  1.05588953,  0.99399975,  0.28506999, -0.45440782,\n",
       "        0.83400556,  0.60689223,  1.05051297,  0.53748302,  1.50600717,\n",
       "        0.34161757,  0.37405481,  0.15598216,  0.47947939,  0.39195367,\n",
       "       -0.04988405,  1.50736821,  0.40662708,  0.29353365,  0.99793079])"
      ]
     },
     "execution_count": 25,
     "metadata": {},
     "output_type": "execute_result"
    }
   ],
   "source": [
    "newys=ynew(samples_censored[20:,0], mu1s[0], mu2s[0], s1s[0], s2s[0], rhos[0])\n",
    "newys"
   ]
  },
  {
   "cell_type": "markdown",
   "metadata": {},
   "source": [
    "This is called the E-step as it computes an expectation for us. Lets run this iteratively and see if we converge."
   ]
  },
  {
   "cell_type": "code",
   "execution_count": 26,
   "metadata": {
    "collapsed": false
   },
   "outputs": [
    {
     "data": {
      "text/html": [
       "<div>\n",
       "<table border=\"1\" class=\"dataframe\">\n",
       "  <thead>\n",
       "    <tr style=\"text-align: right;\">\n",
       "      <th></th>\n",
       "      <th>mu1</th>\n",
       "      <th>mu2</th>\n",
       "      <th>rho</th>\n",
       "      <th>s1</th>\n",
       "      <th>s2</th>\n",
       "    </tr>\n",
       "  </thead>\n",
       "  <tbody>\n",
       "    <tr>\n",
       "      <th>0</th>\n",
       "      <td>1.966883</td>\n",
       "      <td>0.662900</td>\n",
       "      <td>0.522613</td>\n",
       "      <td>1.185731</td>\n",
       "      <td>0.889247</td>\n",
       "    </tr>\n",
       "    <tr>\n",
       "      <th>1</th>\n",
       "      <td>1.966883</td>\n",
       "      <td>0.949428</td>\n",
       "      <td>0.850340</td>\n",
       "      <td>1.185731</td>\n",
       "      <td>0.782217</td>\n",
       "    </tr>\n",
       "    <tr>\n",
       "      <th>2</th>\n",
       "      <td>1.966883</td>\n",
       "      <td>1.073320</td>\n",
       "      <td>0.926036</td>\n",
       "      <td>1.185731</td>\n",
       "      <td>0.811543</td>\n",
       "    </tr>\n",
       "    <tr>\n",
       "      <th>3</th>\n",
       "      <td>1.966883</td>\n",
       "      <td>1.126917</td>\n",
       "      <td>0.941491</td>\n",
       "      <td>1.185731</td>\n",
       "      <td>0.837711</td>\n",
       "    </tr>\n",
       "    <tr>\n",
       "      <th>4</th>\n",
       "      <td>1.966883</td>\n",
       "      <td>1.150122</td>\n",
       "      <td>0.945313</td>\n",
       "      <td>1.185731</td>\n",
       "      <td>0.851228</td>\n",
       "    </tr>\n",
       "    <tr>\n",
       "      <th>5</th>\n",
       "      <td>1.966883</td>\n",
       "      <td>1.160180</td>\n",
       "      <td>0.946476</td>\n",
       "      <td>1.185731</td>\n",
       "      <td>0.857421</td>\n",
       "    </tr>\n",
       "    <tr>\n",
       "      <th>6</th>\n",
       "      <td>1.966883</td>\n",
       "      <td>1.164547</td>\n",
       "      <td>0.946888</td>\n",
       "      <td>1.185731</td>\n",
       "      <td>0.860139</td>\n",
       "    </tr>\n",
       "    <tr>\n",
       "      <th>7</th>\n",
       "      <td>1.966883</td>\n",
       "      <td>1.166447</td>\n",
       "      <td>0.947048</td>\n",
       "      <td>1.185731</td>\n",
       "      <td>0.861307</td>\n",
       "    </tr>\n",
       "    <tr>\n",
       "      <th>8</th>\n",
       "      <td>1.966883</td>\n",
       "      <td>1.167277</td>\n",
       "      <td>0.947113</td>\n",
       "      <td>1.185731</td>\n",
       "      <td>0.861801</td>\n",
       "    </tr>\n",
       "    <tr>\n",
       "      <th>9</th>\n",
       "      <td>1.966883</td>\n",
       "      <td>1.167641</td>\n",
       "      <td>0.947139</td>\n",
       "      <td>1.185731</td>\n",
       "      <td>0.862008</td>\n",
       "    </tr>\n",
       "    <tr>\n",
       "      <th>10</th>\n",
       "      <td>1.966883</td>\n",
       "      <td>1.167802</td>\n",
       "      <td>0.947150</td>\n",
       "      <td>1.185731</td>\n",
       "      <td>0.862092</td>\n",
       "    </tr>\n",
       "    <tr>\n",
       "      <th>11</th>\n",
       "      <td>1.966883</td>\n",
       "      <td>1.167874</td>\n",
       "      <td>0.947154</td>\n",
       "      <td>1.185731</td>\n",
       "      <td>0.862125</td>\n",
       "    </tr>\n",
       "    <tr>\n",
       "      <th>12</th>\n",
       "      <td>1.966883</td>\n",
       "      <td>1.167907</td>\n",
       "      <td>0.947156</td>\n",
       "      <td>1.185731</td>\n",
       "      <td>0.862137</td>\n",
       "    </tr>\n",
       "    <tr>\n",
       "      <th>13</th>\n",
       "      <td>1.966883</td>\n",
       "      <td>1.167922</td>\n",
       "      <td>0.947156</td>\n",
       "      <td>1.185731</td>\n",
       "      <td>0.862141</td>\n",
       "    </tr>\n",
       "    <tr>\n",
       "      <th>14</th>\n",
       "      <td>1.966883</td>\n",
       "      <td>1.167929</td>\n",
       "      <td>0.947157</td>\n",
       "      <td>1.185731</td>\n",
       "      <td>0.862142</td>\n",
       "    </tr>\n",
       "    <tr>\n",
       "      <th>15</th>\n",
       "      <td>1.966883</td>\n",
       "      <td>1.167933</td>\n",
       "      <td>0.947157</td>\n",
       "      <td>1.185731</td>\n",
       "      <td>0.862142</td>\n",
       "    </tr>\n",
       "    <tr>\n",
       "      <th>16</th>\n",
       "      <td>1.966883</td>\n",
       "      <td>1.167934</td>\n",
       "      <td>0.947156</td>\n",
       "      <td>1.185731</td>\n",
       "      <td>0.862142</td>\n",
       "    </tr>\n",
       "    <tr>\n",
       "      <th>17</th>\n",
       "      <td>1.966883</td>\n",
       "      <td>1.167935</td>\n",
       "      <td>0.947156</td>\n",
       "      <td>1.185731</td>\n",
       "      <td>0.862141</td>\n",
       "    </tr>\n",
       "    <tr>\n",
       "      <th>18</th>\n",
       "      <td>1.966883</td>\n",
       "      <td>1.167936</td>\n",
       "      <td>0.947156</td>\n",
       "      <td>1.185731</td>\n",
       "      <td>0.862141</td>\n",
       "    </tr>\n",
       "    <tr>\n",
       "      <th>19</th>\n",
       "      <td>1.966883</td>\n",
       "      <td>1.167936</td>\n",
       "      <td>0.947156</td>\n",
       "      <td>1.185731</td>\n",
       "      <td>0.862141</td>\n",
       "    </tr>\n",
       "  </tbody>\n",
       "</table>\n",
       "</div>"
      ],
      "text/plain": [
       "         mu1       mu2       rho        s1        s2\n",
       "0   1.966883  0.662900  0.522613  1.185731  0.889247\n",
       "1   1.966883  0.949428  0.850340  1.185731  0.782217\n",
       "2   1.966883  1.073320  0.926036  1.185731  0.811543\n",
       "3   1.966883  1.126917  0.941491  1.185731  0.837711\n",
       "4   1.966883  1.150122  0.945313  1.185731  0.851228\n",
       "5   1.966883  1.160180  0.946476  1.185731  0.857421\n",
       "6   1.966883  1.164547  0.946888  1.185731  0.860139\n",
       "7   1.966883  1.166447  0.947048  1.185731  0.861307\n",
       "8   1.966883  1.167277  0.947113  1.185731  0.861801\n",
       "9   1.966883  1.167641  0.947139  1.185731  0.862008\n",
       "10  1.966883  1.167802  0.947150  1.185731  0.862092\n",
       "11  1.966883  1.167874  0.947154  1.185731  0.862125\n",
       "12  1.966883  1.167907  0.947156  1.185731  0.862137\n",
       "13  1.966883  1.167922  0.947156  1.185731  0.862141\n",
       "14  1.966883  1.167929  0.947157  1.185731  0.862142\n",
       "15  1.966883  1.167933  0.947157  1.185731  0.862142\n",
       "16  1.966883  1.167934  0.947156  1.185731  0.862142\n",
       "17  1.966883  1.167935  0.947156  1.185731  0.862141\n",
       "18  1.966883  1.167936  0.947156  1.185731  0.862141\n",
       "19  1.966883  1.167936  0.947156  1.185731  0.862141"
      ]
     },
     "execution_count": 26,
     "metadata": {},
     "output_type": "execute_result"
    }
   ],
   "source": [
    "for step in range(1,20):\n",
    "    samples_censored[20:,1] = newys\n",
    "    #M-step\n",
    "    mu1s.append(mu1(samples_censored))\n",
    "    mu2s.append(mu2(samples_censored))\n",
    "    s1s.append(s1(samples_censored))\n",
    "    s2s.append(s2(samples_censored))\n",
    "    rhos.append(rho(samples_censored))\n",
    "    #E-step\n",
    "    newys=ynew(samples_censored[20:,0], mu1s[step], mu2s[step], s1s[step], s2s[step], rhos[step])\n",
    "df=pd.DataFrame.from_dict(dict(mu1=mu1s, mu2=mu2s, s1=s1s, s2=s2s, rho=rhos))\n",
    "df"
   ]
  },
  {
   "cell_type": "markdown",
   "metadata": {},
   "source": [
    "Voila. We converge to stable values of our parameters.\n",
    "\n",
    "But they may not be the ones we seeded the samples with. The Em algorithm is only good upto finding local minima, and a finite sample size also means that the minimum found can be slightly different."
   ]
  },
  {
   "cell_type": "markdown",
   "metadata": {},
   "source": [
    "## The EM algorithm\n",
    "\n",
    "** Expectation-maximization (EM)** method is an iterative method for maximizing difficult \n",
    "likelihood (or posterior) problems. It was first introduced by Dempster, Laird, and Rubin (1977). \n",
    "\n",
    "EM recognizes that if the data were fully observed, then  ML/ MAP estimates would be easy to compute. It thus alternates between inferring the missing values given the parameters (E step), and then optimizing the parameters given the “filled in” data (M step). \n",
    "The idea is to find a lower-bound \n",
    "on the log-likelihood $\\ell$ (E-step) and the optimize the lower-bound (M-step). \n",
    "\n",
    "**We want to use EM wherever we dont know how to optimize simply the x-data likelihood.**\n",
    "\n",
    "The EM algorithm is naturally useful for missing data, truncated data, censored data and grouped data problems. But it is also useful at places where you have clusters like mixture models, and you are working in an unsupervised or semi-supervised mode. Basically, any place you can set up a latent variable model or a data augmentation procedure, EM is useful.\n",
    "\n",
    "There are applications in astronomical image analysis, genetics, engineering, etc\n",
    "\n",
    "The basic idea is:\n",
    "\n",
    "**calculate MLE estimates for the incomplete data problem by using the complete-data likelihood. To create complete data, augment the observed data with manufactured data**\n",
    "\n",
    "Sorta like, just assign points to clusters to start with and iterate.\n",
    "\n",
    "Then, at each iteration, replace the augmented data by its conditional expectation given current observed data and parameter estimates. (E-step) Maximize the full-data likelihood to do the M-step.\n",
    "\n"
   ]
  },
  {
   "cell_type": "markdown",
   "metadata": {},
   "source": [
    "## Why does EM work?\n",
    "\n",
    "To understand why EM works we will start with our old friend the KL-divergence. All images in this section are stolen from Bishop\n",
    "\n",
    "We cast the problem as a MLE problem, but in general any problem in which there is a $\\theta, x, z$ triad will work.\n",
    "\n",
    "We start with:\n",
    "\n",
    "$$p(x) = \\sum_z p(x, z)$$\n",
    "\n",
    "Specifically, lets cast these as likelihoods\n",
    "\n",
    "$$p(x \\vert \\theta) = \\sum_z p(x, z \\vert \\theta)$$\n",
    "\n",
    "where the $x$ and $z$ range over the multiple points in your data set.\n",
    "\n",
    "Then $$\\ell( x \\vert \\theta) = log\\, p(x \\vert \\theta) = log\\, \\sum_z p(x, z \\vert \\theta)$$\n",
    "\n",
    "Assume $z$ has some normalized distribution:\n",
    "\n",
    "$$z \\sim q(z)$$.\n",
    "\n",
    "We wish to compute conditional expectations of the type:\n",
    "\n",
    "$$E_{p(z \\vert x, \\theta)}[z]$$\n",
    "\n",
    "but we dont know this \"posterior\". Lets however say that we somehow know $q$ and thus can define our loss function as the KL-divergence between $q$ and the posterior $p(z \\vert x, \\theta)$, henceforth abbreviated $p$.\n",
    "\n",
    "Then (notice new notation to be consistent with Bishop):\n",
    "\n",
    "$$ \\mathrm{KL}(q \\vert\\vert p) = D_{KL}(q, p) = E_q[log \\frac{q}{p}] = -E_q[log \\frac{p}{q}]$$\n",
    "\n",
    "$$D_{KL}(q, p) = -E_q[log \\frac{p(x, z \\vert \\theta)}{q\\,p(x \\vert \\theta)}]$$\n",
    "\n",
    "where we have used Bayes Theorem.\n",
    "\n",
    "Now at first blush this does not seem to have bought us anything as we dont know the full data likelihood and we dont know how to optimize the x-data likelihood. But lets persevere:\n",
    "\n",
    "$$D_{KL}(q, p) = - \\left( E_q[log \\frac{p(x, z \\vert \\theta)}{q}] - E_q[log\\,p(x \\vert \\theta)] \\right)$$"
   ]
  },
  {
   "cell_type": "markdown",
   "metadata": {},
   "source": [
    "The second term does not depend on $q$, and $q$ is normalized so the expectation just gives 1 and we can rewrite the equation in terns of the x-data log likelihoood thus:\n",
    "\n",
    "$$log\\,p(x \\vert \\theta) = E_q[log \\frac{p(x, z \\vert \\theta)}{q}] + D_{KL}(q, p)$$\n",
    "\n",
    "If we define the ELBO or Evidence Lower bound as:\n",
    "\n",
    "$$\\mathcal{L}(q, \\theta) = E_q[log \\frac{p(x, z \\vert \\theta)}{q}]$$\n",
    "\n",
    ", then\n",
    "\n",
    "$log\\,p(x \\vert \\theta)$ = ELBO + KL-divergence\n",
    "\n",
    "a situation made clear in the diagram below where the ELBO goues upto the blue line and the divergence from the blue to the red. Be careful with the p's, the one on the right is for the x-data and the one on the left for the latent-variable posterior."
   ]
  },
  {
   "cell_type": "markdown",
   "metadata": {
    "collapsed": false
   },
   "source": [
    "![](images/klsplitup.png)"
   ]
  },
  {
   "cell_type": "markdown",
   "metadata": {},
   "source": [
    "Now recall that the Kullback Liebler divergence is 0 only if the distributions as a function of $z$ are the same at every poiny; it is otherwise **ALWAYS** greater than 0. This tells us that the quantity $\\mathcal{L}(q, \\theta)$, is **ALWAYS** smaller than or equal to the log-likelihood of $p(x  \\vert  \\theta)$, as illustrated above. In other words, $\\mathcal{L}(q, \\theta)$ is a lower bound on the log-likelihood. This is why its called the ELBO, with the \"evidence\" aspect of it coming from Variational calculus (next lecture).\n",
    "\n",
    "The ELBO itself is the expected value of the full-data log-likelihood minus the entropy of $q$:\n",
    "\n",
    "$$\\mathcal{L}(q, \\theta) = E_q[log \\frac{p(x, z \\vert \\theta)}{q}] = E_q[log p(x, z \\vert \\theta)] - E_q[log\\, q]$$\n",
    "\n",
    "### E-step\n",
    "\n",
    "These observations set up the EM algorithm for us. If we choose, in the **E-step**, at some (possibly initial) value of the parameters $\\theta_{old}$,\n",
    "\n",
    "$$q(z) = p(z  \\vert  x, \\theta_{old}),$$ \n",
    "\n",
    "we then set the Kullback Liebler divergence to 0, and thus $\\mathcal{L}(q, \\theta)$ to the log-likelihood at $\\theta_{old}$,  and maximizing the lower bound. \n",
    "\n",
    "Using this missing data posterior, conditioned on observed data, and $\\theta_{old}$, we compute the expectation of the missing data with respect to the posterior and use it later.\n",
    "\n",
    "![](images/klsplitestep.png)"
   ]
  },
  {
   "cell_type": "markdown",
   "metadata": {},
   "source": [
    "### Now the **M-step**. \n",
    "\n",
    "Since after the E-step, the lower bound touches the log-likelihood, any maximization of this ELBO from its current value with respect to $\\theta$ will also “push up” on the likelihood itself. Thus M step guaranteedly modifies the parameters $\\theta$ to increase (or keep same) the likelihood of the observed data.\n",
    "\n",
    "Thus we hold now the distribution $q(z)$ fixed at the hidden variable posterior calculated at $\\theta_{old}$, and maximize $\\mathcal{L}(q, \\theta)$ with respect to $\\theta$ to obtain new parameter values $\\theta_{new}$. This is a regular maximization.\n",
    "\n",
    "The distribution $q$, calculated as it is at $\\theta_{old}$ will not in general equal the new posterior distribution $p(z \\vert x,\\theta_{new})$, and hence there will be a nonzero KL divergence. Thus the increase in the log-likelihood will be greater than the increase in the lower bound $\\mathcal{L}$, as illustrated below.\n",
    "\n",
    "The M in “M-step” and “EM” stands for “maximization”."
   ]
  },
  {
   "cell_type": "markdown",
   "metadata": {
    "collapsed": false
   },
   "source": [
    "![](images/klsplitmstep.png)"
   ]
  },
  {
   "cell_type": "markdown",
   "metadata": {},
   "source": [
    "### The process\n",
    "\n",
    "Note that since $\\mathcal{L}$ is maximized with respect to $\\theta$, one can equivalently maximize the expectation of the full-data log likelihood $\\mathrm{E_q[\\ell( x,z  \\vert  \\theta)]}$ in the M-step since the difference is purely a function of $q$. Furthermore, if the joint distribution $p(x, z \\vert  \\theta)$ is a member of the exponential family, the log-likelihood will have a particularly simple form and will lead to a much simpler maximization than that of the incomple-data log-likelihood $p(x \\vert \\theta)$.\n",
    "\n",
    "We now set $\\theta_{old} = \\theta_{new}$ and repeat the process. This **EM algorithm** is presented and  illustrated below:\n",
    "\n",
    "![](images/emupdate.png)\n",
    "\n",
    "1. We start with the log-likelihood $p(x  \\vert  \\theta)$(red curve) and the initial guess $\\theta_{old}$ of the parameter values\n",
    "2. Until convergence (the $\\theta$ values dont change too much):\n",
    "    1. E-step: Evaluate the hidden variable posterior $q(z, \\theta_{old}) = p(z  \\vert  x, \\theta_{old})$ which gives rise to a lower bound function of $\\theta$: $\\mathcal{L}(q(z, \\theta_{old}), \\theta)$(blue curve) whose value equals the value of $p(x  \\vert  \\theta)$ at $\\theta_{old}$.\n",
    "    2. M-step: maximize the lower bound function with respect to $\\theta$ to get $\\theta_{new}$.\n",
    "    3. Set $\\theta_{old} = \\theta_{new}$\n",
    "    \n",
    "One iteration more is illustrated above, where the subsequent E-step constructs a new lower-bound function that is tangential to the log-likelihood at $\\theta_{new}$, and whose value at $\\theta_{new}$ is higher than the lower bound at $\\theta_{old}$ from the previous step.\n",
    "\n",
    "Thus\n",
    "\n",
    "$$\\ell(\\theta_{t+1}) \\ge \\mathcal{L}(q(z,\\theta_t), \\theta_{t+1}) \\ge \\mathcal{L}(q(z,\\theta_t), \\theta_{t}) = \\ell(\\theta_t)$$\n",
    "\n",
    "The first equality follows since $\\mathcal{L}$ is a lower bound on $\\ell$, the second from the M-step's maximization of $\\mathcal{L}$, and the last from the vanishing of the KL-divergence after the E-step. As a consequence, you **must** observe monotonic increase of the observed-data log likelihood $\\ell$ across iterations. **This is a  powerful debugging tool for your code**."
   ]
  },
  {
   "cell_type": "markdown",
   "metadata": {},
   "source": [
    "Note that as shown above, since each EM iteration can only improve the likelihood, you are guaranteeing convergence to a local maximum. Because it **IS** local , you must try some different initial values of $\\theta_{old}$ and take the one that gives you the largest $\\ell$."
   ]
  },
  {
   "cell_type": "markdown",
   "metadata": {},
   "source": [
    "## The EM algorithm with indices laid out\n",
    "\n",
    "I often find it confusing as to what the indices are actually doing if I dont write them out explicitly. So lets visit the EM derivation once more, focussing on mixtures, and explicitly writing out indices. The derivation does not need mixtures, but I find it helpful to imagine that we are fitting such a model.\n",
    "\n",
    "Suppose we have an estimation problem in which we have data consising of $m$ independent examples $\\{x_1,\\ldots,x_m\\}$ . \n",
    "The goal is to fit the parameters of the model, where the log-likelihood is given by \n",
    "\\begin{eqnarray}\n",
    "\\ell(x  \\vert  \\theta)&=& \\log \\prod_{i=1}^{m} p(x_i \\vert  \\theta) =   \\sum_{i=1}^{m} \\log \\,p(x_i \\vert  \\theta)  \\\\ \n",
    "   &=& \\sum_{i=1}^{m} \\log \\zsumi \\,p(x_i,z \\vert  \\theta)  \\\\ \n",
    "\\end{eqnarray}\n",
    "\n",
    "where the $z$ are the latent random variables. If $z$ were observed then the maximum likelihood estimation would be easy. \n",
    "\n",
    "Indeed then, let us start with the full data log-likelihood, \n",
    "\n",
    "$$\\ell(x, z  \\vert  \\theta) = \\sum_{i=1}^{m}  \\log \\,p(x_i, z_i  \\vert  \\theta),$$\n",
    "\n",
    " which is the log-likelihood we'd calculate if we knew all the $z_i$. But we do not know thse, so lets assume the $\\{z_i\\}$ have some normalized distribution $q(z)$, and calculate the expected value of the full data log likelihood with respect to this distribution:\n",
    "\n",
    "\n",
    "\\begin{eqnarray}\n",
    "\\mathrm{E_q[\\ell( x,z  \\vert  \\theta)]}  &=& \\sum_i \\zsumi q_{i}(z_i) \\log \\,p(x_i, z_i  \\vert  \\theta)\\\\\n",
    "    &=& \\sum_i \\zsumi q_{i}(z_i) \\log \\,\\frac{p(x_i, z_i  \\vert  \\theta)}{q_{i}(z_i)} +  \\sum_i \\zsumi q_{i}(z_i) \\log \\,q_{i}(z_i)\n",
    "\\end{eqnarray}\n",
    "\n",
    "The second term only involves $q$ and is independent of $\\theta$. Looking only at the first term inside the i-summation:\n",
    "\n",
    "\\begin{eqnarray}\n",
    "\\mathcal{L}(i, q, \\theta) &=&  \\zsumi q_{i}(z_i) \\log \\,\\frac{p(x_i, z_i  \\vert  \\theta)}{q_{i}(z_i)} \\\\\n",
    "&=& \\zsumi  q_i(z_i) \\left( \\log \\frac{p(z_i \\vert  x_i,  \\theta)}{ q_i(z_i)} + \\log p(x_i  \\vert  \\theta)\\right)\n",
    "\\end{eqnarray}\n",
    "\n",
    "we can see that, since $\\zsumi q_i(z_i) = 1$:\n",
    "\n",
    "\\begin{eqnarray}\n",
    "\\mathcal{L}(i, q, \\theta) &=& \\zsumi  q_i(z_i) \\left( \\log \\frac{p(z_i \\vert  x_i,  \\theta)}{ q_i(z_i)} + \\log p(x_i  \\vert  \\theta)\\right)\\\\\n",
    "    &=& -\\mathrm{KL}\\left(q_i  \\vert  \\vert  p_i \\right) + \\log p(x_i  \\vert  \\theta)\\\\\n",
    "\\end{eqnarray}\n",
    "\n",
    "where $\\mathrm{KL}$ is the Kullback-Leibler divergence between $q(x)$ and the hidden variable posterior distribution $p(z \\vert x,\\theta)$ at the poin $i$.\n",
    "\n",
    "Since the sum over the data-points of the second term is just the log-likelihood we desire, it can then can be written as:\n",
    "\n",
    "\\begin{eqnarray}\n",
    "\\ell(x  \\vert  \\theta) &=& \\sum_i \\left(\\mathcal{L}(i, q, \\theta) +\\mathrm{KL}\\left(q_i   \\vert  \\vert  p_i \\right)\\right)\\\\\n",
    "&=& \\mathcal{L}(q, \\theta) + \\mathrm{KL}\\left(q  \\vert  \\vert  p \\right)\n",
    "\\end{eqnarray}\n",
    "\n",
    "where we are defining:\n",
    "\n",
    "$$\\mathrm{KL}(q  \\vert  \\vert  p) = \\sum_i \\mathrm{KL}\\left(q_i   \\vert  \\vert  p_i \\right)$$\n",
    "\n",
    "as the sum of the KL-divergence at each data point, and $\\mathcal{L}(q, \\theta)$ as the sum of $\\mathcal{L}$ at each data point."
   ]
  },
  {
   "cell_type": "markdown",
   "metadata": {},
   "source": [
    "## The Gaussian Mixture model using EM\n",
    "\n",
    "We dont know how to solve for the MLE of the unsupervised problem. The EM algorithm comes to the rescue. As described above here is the algorithm:\n",
    "\n",
    "\n",
    "* Repeat until convergence \n",
    "*  E-step: For each $i,j$ calculate \n",
    "\n",
    "$$ w_{i,j} = q_i(z_i=j)=p(z_i=j \\vert  x_i, \\lambda, \\mu, \\Sigma) $$\n",
    "     \n",
    "* M-step: We need to maximize, with respect to our parameters the\n",
    "  \n",
    "$$\n",
    "\\begin{eqnarray}\n",
    " \\mathcal{L} &=& \\sum_i \\sum_{z_i} q_i(z_i) \\log \\frac{p(x_i,z_i  \\vert \\lambda, \\mu, \\Sigma)}{q_i(z_i)} \\nonumber \\\\\n",
    " \\mathcal{L} &=& \\sum_i \\sum_{j=i}^{k}  q_i(z_i=j) \\log \\frac{p(x_i \\vert z_i=j , \\mu, \\Sigma) p(z_i=j \\vert \\lambda)}{q_i(z_i=j)} \\\\\n",
    " \\mathcal{L} & =&  \\sum_{i=1}^{m} \\sum_{j=i}^{k} w_{i,j}  \\log \\left[   \\frac{ \\frac{1}{ (2\\pi)^{n/2} \\vert \\Sigma_j \\vert ^{1/2}} \\exp \\left(    -\\frac{1}{2}(x_i-\\mu_j)^T \\Sigma_j^{-1} (x_i-\\mu_j) \\right)  \\, \\lambda_j   }{w_{i,j}}\\right]\n",
    "\\end{eqnarray}\n",
    "$$\n",
    "\n",
    "Taking the derivatives yields the following updating formulas:\n",
    "\n",
    "$$\n",
    "\\begin{eqnarray}\n",
    " \\lambda_j &=& \\frac{1}{m} \\sum_{i=1}^m w_{i,j} \\nonumber \\\\ \n",
    " \\mu_j&=& \\frac{ \\sum_{i=1}^m  w_{i,j} \\, x_i}{ \\sum_{i=1}^m  w_{i,j}} \\nonumber \\\\ \n",
    " \\Sigma_j &=& \\frac{ \\sum_{i=1}^m  w_{i,j} \\, (x_i-\\mu_j)(x_i-\\mu_j)^T}{ \\sum_{i=1}^m  w_{i,j}}\n",
    "\\end{eqnarray}\n",
    "$$\n",
    "\n",
    "To calculate the E-step we basically calculating the posterior of the  $z$'s given the $x$'s and the\n",
    "current estimate of our parameters. We can use Bayes rule \n",
    "\n",
    "$$ w_{i,j}= p(z_i=j \\vert  x_i, \\lambda, \\mu, \\Sigma) = \\frac{p( x_i \\vert  z_i=j,  \\mu, \\Sigma)\\, p(z_i=j \\vert \\lambda)}{\\sum_{l=1}^k p(x_i  \\vert  z_i=l,  \\mu, \\Sigma) \\, p(z_i=l \\vert \\lambda)} $$\n",
    "\n",
    "Where $p(x_i  \\vert  z_i =j,  \\mu, \\Sigma)$ is the density of the Gaussian with mean $\\mu_j$ and covariance \n",
    "$\\Sigma_j$ at $x_i$ and $p(z_i=j \\vert  \\lambda)$ is simply $\\lambda_j$. \n",
    "If we to compare these formulas in the M-step with the ones we found in GDA we can see\n",
    "that are very similar except that instead of using $\\delta$ functions we use the $w$'s. Thus the EM algorithm corresponds here to a weighted maximum likelihood and the weights are interpreted as the 'probability' of coming from that Gaussian instead of the deterministic \n",
    "$\\delta$ functions. Thus we have achived a **soft clustering** (as opposed to k-means in the unsupervised case and classification in the supervised case)."
   ]
  },
  {
   "cell_type": "code",
   "execution_count": 30,
   "metadata": {
    "collapsed": false
   },
   "outputs": [
    {
     "data": {
      "image/png": "[encoded data removed]",
      "text/plain": [
       "<matplotlib.figure.Figure at 0x11d06b390>"
      ]
     },
     "metadata": {},
     "output_type": "display_data"
    }
   ],
   "source": [
    "#In 1-D\n",
    "# True parameter values\n",
    "mu_true = [2, 5]\n",
    "sigma_true = [0.6, 0.6]\n",
    "lambda_true = .4\n",
    "n = 1000\n",
    "\n",
    "# Simulate from each distribution according to mixing proportion psi\n",
    "z = np.random.binomial(1, lambda_true, n)\n",
    "x = np.array([np.random.normal(mu_true[i], sigma_true[i]) for i in z])\n",
    "\n",
    "plt.hist(x, bins=20);"
   ]
  },
  {
   "cell_type": "code",
   "execution_count": 31,
   "metadata": {
    "collapsed": false
   },
   "outputs": [],
   "source": [
    "#from Bios366 lecture notes\n",
    "from scipy.stats.distributions import norm\n",
    "\n",
    "def Estep(x, mu, sigma, lam):\n",
    "    a = lam * norm.pdf(x, mu[0], sigma[0])\n",
    "    b = (1. - lam) * norm.pdf(x, mu[1], sigma[1])\n",
    "    return b / (a + b)\n",
    "\n"
   ]
  },
  {
   "cell_type": "code",
   "execution_count": 33,
   "metadata": {
    "collapsed": false
   },
   "outputs": [],
   "source": [
    "def Mstep(x, w):\n",
    "    lam = np.mean(1.-w) \n",
    "    \n",
    "    mu = [np.sum((1-w) * x)/np.sum(1-w), np.sum(w * x)/np.sum(w)]\n",
    "    \n",
    "    sigma = [np.sqrt(np.sum((1-w) * (x - mu[0])**2)/np.sum(1-w)), \n",
    "             np.sqrt(np.sum(w * (x - mu[1])**2)/np.sum(w))]\n",
    "    \n",
    "    return mu, sigma, lam"
   ]
  },
  {
   "cell_type": "code",
   "execution_count": 36,
   "metadata": {
    "collapsed": false
   },
   "outputs": [
    {
     "name": "stdout",
     "output_type": "stream",
     "text": [
      "0.4 [2, 5] [0.6, 0.6]\n",
      "Iterations 62\n",
      "A: N(4.9852, 0.6326)\n",
      "B: N(1.9811, 0.6060)\n",
      "lam: 0.4024\n"
     ]
    }
   ],
   "source": [
    "print(lambda_true, mu_true, sigma_true)\n",
    "# Initialize values\n",
    "mu = np.random.normal(4, 10, size=2)\n",
    "sigma = np.random.uniform(0, 5, size=2)\n",
    "lam = np.random.random()\n",
    "\n",
    "# Stopping criterion\n",
    "crit = 1e-15\n",
    "\n",
    "# Convergence flag\n",
    "converged = False\n",
    "\n",
    "# Loop until converged\n",
    "iterations=1\n",
    "\n",
    "\n",
    "while not converged:\n",
    "    # E-step\n",
    "    if np.isnan(mu[0]) or np.isnan(mu[1]) or np.isnan(sigma[0]) or np.isnan(sigma[1]):\n",
    "        print(\"Singularity!\")\n",
    "        break\n",
    "        \n",
    "    w = Estep(x, mu, sigma, lam)\n",
    "\n",
    "    # M-step\n",
    "    mu_new, sigma_new, lam_new = Mstep(x, w)\n",
    "    \n",
    "    # Check convergence\n",
    "    converged = ((np.abs(lam_new - lam) < crit) \n",
    "                 & np.all(np.abs((np.array(mu_new) - np.array(mu)) < crit))\n",
    "                 & np.all(np.abs((np.array(sigma_new) - np.array(sigma)) < crit)))\n",
    "    mu, sigma, lam = mu_new, sigma_new, lam_new\n",
    "    iterations +=1           \n",
    "\n",
    "print(\"Iterations\", iterations)\n",
    "print('A: N({0:.4f}, {1:.4f})\\nB: N({2:.4f}, {3:.4f})\\nlam: {4:.4f}'.format(\n",
    "                        mu_new[0], sigma_new[0], mu_new[1], sigma_new[1], lam_new))"
   ]
  },
  {
   "cell_type": "markdown",
   "metadata": {},
   "source": [
    "### Old Faithful done in sklearn"
   ]
  },
  {
   "cell_type": "code",
   "execution_count": 37,
   "metadata": {
    "collapsed": false
   },
   "outputs": [
    {
     "data": {
      "text/html": [
       "<div>\n",
       "<table border=\"1\" class=\"dataframe\">\n",
       "  <thead>\n",
       "    <tr style=\"text-align: right;\">\n",
       "      <th></th>\n",
       "      <th>eruptions</th>\n",
       "      <th>waiting</th>\n",
       "    </tr>\n",
       "  </thead>\n",
       "  <tbody>\n",
       "    <tr>\n",
       "      <th>0</th>\n",
       "      <td>3.600</td>\n",
       "      <td>79</td>\n",
       "    </tr>\n",
       "    <tr>\n",
       "      <th>1</th>\n",
       "      <td>1.800</td>\n",
       "      <td>54</td>\n",
       "    </tr>\n",
       "    <tr>\n",
       "      <th>2</th>\n",
       "      <td>3.333</td>\n",
       "      <td>74</td>\n",
       "    </tr>\n",
       "    <tr>\n",
       "      <th>3</th>\n",
       "      <td>2.283</td>\n",
       "      <td>62</td>\n",
       "    </tr>\n",
       "    <tr>\n",
       "      <th>4</th>\n",
       "      <td>4.533</td>\n",
       "      <td>85</td>\n",
       "    </tr>\n",
       "  </tbody>\n",
       "</table>\n",
       "</div>"
      ],
      "text/plain": [
       "   eruptions  waiting\n",
       "0      3.600       79\n",
       "1      1.800       54\n",
       "2      3.333       74\n",
       "3      2.283       62\n",
       "4      4.533       85"
      ]
     },
     "execution_count": 37,
     "metadata": {},
     "output_type": "execute_result"
    }
   ],
   "source": [
    "ofdata=pd.read_csv(\"data/oldfaithful.csv\")\n",
    "ofdata.head()"
   ]
  },
  {
   "cell_type": "code",
   "execution_count": 38,
   "metadata": {
    "collapsed": false
   },
   "outputs": [
    {
     "data": {
      "text/plain": [
       "<matplotlib.text.Text at 0x11e051668>"
      ]
     },
     "execution_count": 38,
     "metadata": {},
     "output_type": "execute_result"
    },
    {
     "data": {
      "image/png": "[encoded data removed]",
      "text/plain": [
       "<matplotlib.figure.Figure at 0x11dd79ac8>"
      ]
     },
     "metadata": {},
     "output_type": "display_data"
    }
   ],
   "source": [
    "plt.scatter(ofdata.eruptions, ofdata.waiting);\n",
    "plt.xlabel('eruptions length')\n",
    "plt.ylabel('time between eruptions')"
   ]
  },
  {
   "cell_type": "code",
   "execution_count": 22,
   "metadata": {
    "collapsed": false
   },
   "outputs": [
    {
     "data": {
      "text/plain": [
       "GMM(covariance_type='diag', init_params='wmc', min_covar=0.001,\n",
       "  n_components=2, n_init=1, n_iter=100, params='wmc', random_state=None,\n",
       "  thresh=0.01)"
      ]
     },
     "execution_count": 22,
     "metadata": {},
     "output_type": "execute_result"
    }
   ],
   "source": [
    "from sklearn import mixture\n",
    "clf = mixture.GMM(n_components=2)\n",
    "clf.fit(ofdata.values)\n",
    "\n"
   ]
  },
  {
   "cell_type": "code",
   "execution_count": 25,
   "metadata": {
    "collapsed": false
   },
   "outputs": [],
   "source": [
    "mask = clf.predict(ofdata.values)"
   ]
  },
  {
   "cell_type": "code",
   "execution_count": 37,
   "metadata": {
    "collapsed": false
   },
   "outputs": [
    {
     "data": {
      "image/png": "[encoded data removed]",
      "text/plain": [
       "<matplotlib.figure.Figure at 0x10a431cd0>"
      ]
     },
     "metadata": {},
     "output_type": "display_data"
    }
   ],
   "source": [
    "xx = np.linspace(0, 6) \n",
    "yy = np.linspace(40, 100) \n",
    "X, Y = np.meshgrid(xx, yy)\n",
    "XX = np.c_[X.ravel(), Y.ravel()]\n",
    "Z =  np.log(-clf.score_samples(XX)[0])\n",
    "Z = Z.reshape(X.shape)\n",
    "\n",
    "CS = plt.contour(X, Y, Z)\n",
    "CB = plt.colorbar(CS, shrink=0.8, extend='both')\n",
    "plt.scatter(ofdata.eruptions, ofdata.waiting, c=mask);"
   ]
  },
  {
   "cell_type": "markdown",
   "metadata": {},
   "source": [
    "## Why is EM important?\n",
    "\n",
    "We have motivated the EM algorithm using mixture models and missing data, but that is not its only place of use. \n",
    "\n",
    "Since MLE's can overfit, we often prefer to use MAP estimation. EM is a perfectly reasonable method for MAP estimation in mixture models; you just need to multiply in the prior.\n",
    "\n",
    "Basically the EM algorithm has a similar setup to the data augmentation problem and can be used in any problem which has a similar structure. Suppose for example you have two parameters $\\phi$ and $\\gamma$ in a posterior estimation, with daya $y$. Say that we'd like to estimate the posterior $p(\\phi  \\vert  y)$. It may be relatively hard to estimate this, but suppose we can  work with $p(\\phi  \\vert  \\gamma, y)$ and $p(\\gamma  \\vert  \\phi, y)$. Then you can use the structure of the EM algorithm to estimate the marginal posterior of any one parameter. Start with:\n",
    "\n",
    "$$log p(\\phi  \\vert  y) = log p(\\gamma, \\phi  \\vert  y) - log p(\\gamma  \\vert  \\phi, y)$$\n",
    "\n",
    "Notice the similarity of this to the above expressions with $\\phi$ as $x$, $y$ as $\\theta$, and $\\gamma$ as $z$. Thus the same derivations apply toany problem with this structure.\n",
    "\n",
    "This structure can also be used in type-2 likelihood or emprical bayes estimation."
   ]
  }
 ],
 "metadata": {
  "anaconda-cloud": {},
  "kernelspec": {
   "display_name": "Python [conda env:py35]",
   "language": "python",
   "name": "conda-env-py35-py"
  },
  "language_info": {
   "codemirror_mode": {
    "name": "ipython",
    "version": 3
   },
   "file_extension": ".py",
   "mimetype": "text/x-python",
   "name": "python",
   "nbconvert_exporter": "python",
   "pygments_lexer": "ipython3",
   "version": "3.5.3"
  }
 },
 "nbformat": 4,
 "nbformat_minor": 0
}
